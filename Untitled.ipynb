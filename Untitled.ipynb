{
 "cells": [
  {
   "cell_type": "code",
   "execution_count": null,
   "metadata": {},
   "outputs": [],
   "source": [
    "import csv\n",
    "import requests\n",
    "from scrapy.http import TextResponse \n",
    "\n",
    "#Question 1\n",
    "#get data form Data source in txt format , pick any 5 random days.\n",
    "#combine them into one dataset and create a pandas DataFrame with specific structure\n",
    "\n",
    "# 5 random days \n",
    "dates = [\n",
    "       \"2014-06-30\", \n",
    "       \"2014-06-29\", \n",
    "       \"2014-06-28\",\n",
    "       \"2014-06-27\", \n",
    "       \"2014-06-26\"\n",
    "       ]\n",
    "\n",
    "#remove old data if exit or create new file and add the headers     \n",
    "with open('text.csv', 'w', newline='\\n', encoding='utf-8') as file:\n",
    "      writer = csv.writer(file)\n",
    "      writer.writerow(\n",
    "          [\"CHAT_DAY\", \"CHAT_HOUR\", \"CHAT_MINUTE\",\"CHAT_SECOND\",\"USERNAME\",\"CHAT_MESSAGE\"]\n",
    "          )  \n",
    "\n",
    "def addDataToCSV(lines):\n",
    "    with open('text.csv', 'a', newline='\\n', encoding='utf-8') as file:\n",
    "        writer = csv.writer(file)\n",
    "        writer.writerows([line.split(\"!*|#%^\") for line in lines])\n",
    "\n",
    "def  get_txt(url,date):\n",
    "    # Make a request to the URL and get the response\n",
    "    response = requests.get(url)\n",
    "\n",
    "    # Use Scrapy's TextResponse to parse the HTML content\n",
    "    text_response = TextResponse(url=response.url, body=response.text, encoding='utf-8')\n",
    "\n",
    "    # Get the text from the response\n",
    "    text = text_response.text \n",
    "\n",
    "    # Split the text into lines -- default \\n\n",
    "    lines = text.split(\"\\n\") \n",
    "\n",
    "    #Add date then replace the first 2 spaces and : in each line with specific string that will used to separate column to get CSV \n",
    "    data = []\n",
    "    for line in lines:\n",
    "         if len(line)!=0 :  \n",
    "           line= date+\"!*|#%^\"+line.replace(\":\", \"!*|#%^\", 2)\n",
    "           data.append( line.replace(\" \", \"!*|#%^\", 2))  \n",
    "    \n",
    "    # Write the modified lines to a CSV file\n",
    "    addDataToCSV(data) \n",
    " \n",
    "\n",
    "\n",
    " \n"
   ]
  }
 ],
 "metadata": {
  "kernelspec": {
   "display_name": "Python 3",
   "language": "python",
   "name": "python3"
  },
  "language_info": {
   "codemirror_mode": {
    "name": "ipython",
    "version": 3
   },
   "file_extension": ".py",
   "mimetype": "text/x-python",
   "name": "python",
   "nbconvert_exporter": "python",
   "pygments_lexer": "ipython3",
   "version": "3.8.5"
  }
 },
 "nbformat": 4,
 "nbformat_minor": 4
}
